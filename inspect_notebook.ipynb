{
 "cells": [
  {
   "cell_type": "markdown",
   "source": [
    "# Reading raw Notebooks"
   ],
   "metadata": {
    "collapsed": false
   }
  },
  {
   "cell_type": "code",
   "execution_count": 2,
   "outputs": [],
   "source": [
    "import nbformat"
   ],
   "metadata": {
    "collapsed": false,
    "ExecuteTime": {
     "end_time": "2023-06-04T19:04:02.712260Z",
     "start_time": "2023-06-04T19:04:02.709900Z"
    }
   }
  },
  {
   "cell_type": "markdown",
   "source": [],
   "metadata": {
    "collapsed": false
   }
  },
  {
   "cell_type": "markdown",
   "source": [
    "## Read the Notebook"
   ],
   "metadata": {
    "collapsed": false
   }
  },
  {
   "cell_type": "code",
   "execution_count": 3,
   "metadata": {
    "collapsed": true,
    "ExecuteTime": {
     "end_time": "2023-06-04T19:04:03.225200Z",
     "start_time": "2023-06-04T19:04:03.196919Z"
    }
   },
   "outputs": [],
   "source": [
    "# Read the Notebook\n",
    "def read_ipynb_file(file_path):\n",
    "    with open(file_path, 'r', encoding='utf-8') as file:\n",
    "        notebook = nbformat.read(file, as_version=4)\n",
    "    return notebook\n",
    "\n",
    "notebook_path = \"/Users/nilsjennissen/PycharmProjects/presentations/notebooks/template.ipynb\"\n",
    "notebook = read_ipynb_file(notebook_path)"
   ]
  },
  {
   "cell_type": "code",
   "execution_count": 4,
   "outputs": [
    {
     "data": {
      "text/plain": "{'cells': [{'cell_type': 'markdown',\n   'source': '# Document Name',\n   'metadata': {'collapsed': False}},\n  {'cell_type': 'markdown',\n   'source': '## Section 1\\nFirst header text',\n   'metadata': {'collapsed': False}},\n  {'cell_type': 'code',\n   'execution_count': None,\n   'metadata': {'collapsed': True},\n   'outputs': [],\n   'source': '# First Code Comment\\ndef func():\\n    \\'\\'\\'Function description\\'\\'\\'\\n    print(\"Hello World\")'},\n  {'cell_type': 'markdown',\n   'source': '## Section 2',\n   'metadata': {'collapsed': False}},\n  {'cell_type': 'code',\n   'execution_count': None,\n   'outputs': [],\n   'source': 'def func2():\\n    \\'\\'\\'Function description\\'\\'\\'\\n    print(\"Hello World\")',\n   'metadata': {'collapsed': False}},\n  {'cell_type': 'markdown',\n   'source': '### Subsection 2.1',\n   'metadata': {'collapsed': False}},\n  {'cell_type': 'code',\n   'execution_count': None,\n   'outputs': [],\n   'source': 'def func3():\\n    \\'\\'\\'Function description\\'\\'\\'\\n    print(\"Hello World\")',\n   'metadata': {'collapsed': False}},\n  {'cell_type': 'markdown',\n   'source': '### Subsection 2.2',\n   'metadata': {'collapsed': False}},\n  {'cell_type': 'code',\n   'execution_count': None,\n   'outputs': [],\n   'source': 'def func4():\\n    \\'\\'\\'Function description\\'\\'\\'\\n    print(\"Hello World\")',\n   'metadata': {'collapsed': False}},\n  {'cell_type': 'markdown',\n   'source': '## Section 3',\n   'metadata': {'collapsed': False}},\n  {'cell_type': 'code',\n   'execution_count': None,\n   'outputs': [],\n   'source': 'def func5():\\n    \\'\\'\\'Function description\\'\\'\\'\\n    print(\"Hello World\")',\n   'metadata': {'collapsed': False}}],\n 'metadata': {'kernelspec': {'display_name': 'Python 3',\n   'language': 'python',\n   'name': 'python3'},\n  'language_info': {'codemirror_mode': {'name': 'ipython', 'version': 2},\n   'file_extension': '.py',\n   'mimetype': 'text/x-python',\n   'name': 'python',\n   'nbconvert_exporter': 'python',\n   'pygments_lexer': 'ipython2',\n   'version': '2.7.6'}},\n 'nbformat': 4,\n 'nbformat_minor': 0}"
     },
     "execution_count": 4,
     "metadata": {},
     "output_type": "execute_result"
    }
   ],
   "source": [
    "notebook"
   ],
   "metadata": {
    "collapsed": false,
    "ExecuteTime": {
     "end_time": "2023-06-04T19:04:16.276630Z",
     "start_time": "2023-06-04T19:04:16.273494Z"
    }
   }
  },
  {
   "cell_type": "markdown",
   "source": [
    "## Extracting header and text fields"
   ],
   "metadata": {
    "collapsed": false
   }
  },
  {
   "cell_type": "code",
   "execution_count": 5,
   "outputs": [],
   "source": [
    "def extract_text_fields(notebook):\n",
    "    headers = []\n",
    "    texts = []\n",
    "\n",
    "    for cell in notebook.cells:\n",
    "        if cell.cell_type == 'markdown':\n",
    "            lines = cell.source.split('\\n')\n",
    "            for line in lines:\n",
    "                if line.startswith('##'):\n",
    "                    headers.append(line)\n",
    "                else:\n",
    "                    texts.append(line)\n",
    "\n",
    "    return headers, texts\n",
    "\n",
    "headers, texts = extract_text_fields(notebook)"
   ],
   "metadata": {
    "collapsed": false,
    "ExecuteTime": {
     "end_time": "2023-06-04T19:06:17.270708Z",
     "start_time": "2023-06-04T19:06:17.264410Z"
    }
   }
  },
  {
   "cell_type": "code",
   "execution_count": 6,
   "outputs": [
    {
     "data": {
      "text/plain": "['## Section 1',\n '## Section 2',\n '### Subsection 2.1',\n '### Subsection 2.2',\n '## Section 3']"
     },
     "execution_count": 6,
     "metadata": {},
     "output_type": "execute_result"
    }
   ],
   "source": [
    "headers"
   ],
   "metadata": {
    "collapsed": false,
    "ExecuteTime": {
     "end_time": "2023-06-04T19:06:19.704305Z",
     "start_time": "2023-06-04T19:06:19.700239Z"
    }
   }
  },
  {
   "cell_type": "code",
   "execution_count": 7,
   "outputs": [
    {
     "data": {
      "text/plain": "['# Document Name', 'First header text']"
     },
     "execution_count": 7,
     "metadata": {},
     "output_type": "execute_result"
    }
   ],
   "source": [
    "texts"
   ],
   "metadata": {
    "collapsed": false,
    "ExecuteTime": {
     "end_time": "2023-06-04T19:06:21.230793Z",
     "start_time": "2023-06-04T19:06:21.227832Z"
    }
   }
  },
  {
   "cell_type": "markdown",
   "source": [
    "## Extracting Sections"
   ],
   "metadata": {
    "collapsed": false
   }
  },
  {
   "cell_type": "code",
   "execution_count": 8,
   "outputs": [],
   "source": [
    "def extract_text_fields(notebook):\n",
    "    sections = []\n",
    "\n",
    "    for cell in notebook.cells:\n",
    "        if cell.cell_type == 'markdown':\n",
    "            lines = cell.source.split('\\n')\n",
    "            section = {'header': '', 'text': ''}\n",
    "            for line in lines:\n",
    "                if line.startswith('##'):\n",
    "                    section['header'] = line\n",
    "                else:\n",
    "                    section['text'] += line + '\\n'\n",
    "            sections.append(section)\n",
    "\n",
    "    return sections\n",
    "\n",
    "sections = extract_text_fields(notebook)"
   ],
   "metadata": {
    "collapsed": false,
    "ExecuteTime": {
     "end_time": "2023-06-04T19:07:50.532760Z",
     "start_time": "2023-06-04T19:07:50.529102Z"
    }
   }
  },
  {
   "cell_type": "code",
   "execution_count": 9,
   "outputs": [
    {
     "data": {
      "text/plain": "[{'header': '', 'text': '# Document Name\\n'},\n {'header': '## Section 1', 'text': 'First header text\\n'},\n {'header': '## Section 2', 'text': ''},\n {'header': '### Subsection 2.1', 'text': ''},\n {'header': '### Subsection 2.2', 'text': ''},\n {'header': '## Section 3', 'text': ''}]"
     },
     "execution_count": 9,
     "metadata": {},
     "output_type": "execute_result"
    }
   ],
   "source": [
    "sections"
   ],
   "metadata": {
    "collapsed": false,
    "ExecuteTime": {
     "end_time": "2023-06-04T19:07:50.861201Z",
     "start_time": "2023-06-04T19:07:50.856297Z"
    }
   }
  },
  {
   "cell_type": "code",
   "execution_count": null,
   "outputs": [],
   "source": [],
   "metadata": {
    "collapsed": false
   }
  }
 ],
 "metadata": {
  "kernelspec": {
   "display_name": "Python 3",
   "language": "python",
   "name": "python3"
  },
  "language_info": {
   "codemirror_mode": {
    "name": "ipython",
    "version": 2
   },
   "file_extension": ".py",
   "mimetype": "text/x-python",
   "name": "python",
   "nbconvert_exporter": "python",
   "pygments_lexer": "ipython2",
   "version": "2.7.6"
  }
 },
 "nbformat": 4,
 "nbformat_minor": 0
}
