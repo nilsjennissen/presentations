{
 "cells": [
  {
   "cell_type": "markdown",
   "source": [
    "# Creating Slides"
   ],
   "metadata": {
    "collapsed": false
   }
  },
  {
   "cell_type": "code",
   "execution_count": 30,
   "outputs": [],
   "source": [
    "import pandas as pd\n",
    "from pptx import Presentation\n",
    "from pptx.util import Inches, Pt\n",
    "from pptx.dml.color import RGBColor"
   ],
   "metadata": {
    "collapsed": false,
    "ExecuteTime": {
     "end_time": "2023-06-04T20:10:48.579481Z",
     "start_time": "2023-06-04T20:10:48.573085Z"
    }
   }
  },
  {
   "cell_type": "markdown",
   "source": [
    "## Create from sratch"
   ],
   "metadata": {
    "collapsed": false
   }
  },
  {
   "cell_type": "code",
   "execution_count": 31,
   "outputs": [],
   "source": [
    "# Create a presentation\n",
    "prs = Presentation()"
   ],
   "metadata": {
    "collapsed": false,
    "ExecuteTime": {
     "end_time": "2023-06-04T20:10:49.238387Z",
     "start_time": "2023-06-04T20:10:49.228275Z"
    }
   }
  },
  {
   "cell_type": "code",
   "execution_count": 32,
   "outputs": [
    {
     "name": "stdout",
     "output_type": "stream",
     "text": [
      "11\n"
     ]
    }
   ],
   "source": [
    "# Return length of slide layout\n",
    "print(len(prs.slide_layouts))"
   ],
   "metadata": {
    "collapsed": false,
    "ExecuteTime": {
     "end_time": "2023-06-04T20:10:49.531171Z",
     "start_time": "2023-06-04T20:10:49.527524Z"
    }
   }
  },
  {
   "cell_type": "code",
   "execution_count": 33,
   "outputs": [
    {
     "name": "stdout",
     "output_type": "stream",
     "text": [
      "Number of slides:  0\n"
     ]
    }
   ],
   "source": [
    "# Checking the slide content\n",
    "number_of_slides = len(prs.slides)\n",
    "print('Number of slides: ', number_of_slides)"
   ],
   "metadata": {
    "collapsed": false,
    "ExecuteTime": {
     "end_time": "2023-06-04T20:10:49.882886Z",
     "start_time": "2023-06-04T20:10:49.880504Z"
    }
   }
  },
  {
   "cell_type": "markdown",
   "source": [
    "### Adding a title slide"
   ],
   "metadata": {
    "collapsed": false
   }
  },
  {
   "cell_type": "code",
   "execution_count": 34,
   "outputs": [],
   "source": [
    "# Create the slide\n",
    "title_slide_layout = prs.slide_layouts[0]\n",
    "slide = prs.slides.add_slide(title_slide_layout)\n",
    "title = slide.shapes.title\n",
    "subtitle = slide.placeholders[1]\n",
    "background = slide.background\n",
    "fill = background.fill\n",
    "fill.solid()\n",
    "fill.fore_color.rgb = RGBColor(255, 255, 255)\n",
    "\n",
    "# Add Title\n",
    "title.text = \"Header Text\"\n",
    "title.text_frame.paragraphs[0].font.color.rgb = RGBColor(73, 94, 121)\n",
    "\n",
    "# Add Subtitle\n",
    "subtitle.text = 'Subtitle text'\n",
    "subtitle.text_frame.paragraphs[0].font.color.rgb = RGBColor(73, 94, 121)\n",
    "\n",
    "# Add Image in the preset position\n",
    "left = Inches(2.5)\n",
    "top = Inches(0.5)\n",
    "height = Inches(1.5)\n",
    "pic = slide.shapes.add_picture('../images/python-logo.png', left, top, height=height)\n",
    "\n",
    "# Add Textbox\n",
    "left = Inches(0.5)\n",
    "top = Inches(3.5)\n",
    "width = Inches(5)\n",
    "height = Inches(1)\n",
    "textbox = slide.shapes.add_textbox(left, top, width, height)"
   ],
   "metadata": {
    "collapsed": false,
    "ExecuteTime": {
     "end_time": "2023-06-04T20:10:50.768718Z",
     "start_time": "2023-06-04T20:10:50.760284Z"
    }
   }
  },
  {
   "cell_type": "markdown",
   "source": [
    "### Saving the presentation"
   ],
   "metadata": {
    "collapsed": false
   }
  },
  {
   "cell_type": "code",
   "execution_count": 35,
   "outputs": [],
   "source": [
    "# Saving the presentation\n",
    "prs.save('../pres/presentation_scratch.pptx')"
   ],
   "metadata": {
    "collapsed": false,
    "ExecuteTime": {
     "end_time": "2023-06-04T20:10:51.885462Z",
     "start_time": "2023-06-04T20:10:51.878049Z"
    }
   }
  },
  {
   "cell_type": "markdown",
   "source": [
    "## Using a template presentation"
   ],
   "metadata": {
    "collapsed": false
   }
  },
  {
   "cell_type": "code",
   "execution_count": 36,
   "outputs": [],
   "source": [
    "# Define the path to the PowerPoint presentation\n",
    "path = '../templates/template.pptx'\n",
    "# Open the PowerPoint presentation\n",
    "prs = Presentation(path)"
   ],
   "metadata": {
    "collapsed": false,
    "ExecuteTime": {
     "end_time": "2023-06-04T20:11:02.089699Z",
     "start_time": "2023-06-04T20:11:02.057530Z"
    }
   }
  },
  {
   "cell_type": "code",
   "execution_count": 37,
   "outputs": [
    {
     "name": "stdout",
     "output_type": "stream",
     "text": [
      "Number of slides:  1\n"
     ]
    }
   ],
   "source": [
    "# Checking the slide content\n",
    "number_of_slides = len(prs.slides)\n",
    "print('Number of slides: ', number_of_slides)"
   ],
   "metadata": {
    "collapsed": false,
    "ExecuteTime": {
     "end_time": "2023-06-04T20:11:04.252548Z",
     "start_time": "2023-06-04T20:11:04.249636Z"
    }
   }
  },
  {
   "cell_type": "code",
   "execution_count": 39,
   "outputs": [
    {
     "name": "stdout",
     "output_type": "stream",
     "text": [
      "Number of layouts:  25\n"
     ]
    }
   ],
   "source": [
    "# Return length of slide layout\n",
    "number_of_layouts = len(prs.slide_layouts)\n",
    "print('Number of layouts: ', number_of_layouts)"
   ],
   "metadata": {
    "collapsed": false,
    "ExecuteTime": {
     "end_time": "2023-06-04T20:11:41.172913Z",
     "start_time": "2023-06-04T20:11:41.170272Z"
    }
   }
  },
  {
   "cell_type": "code",
   "execution_count": null,
   "outputs": [],
   "source": [],
   "metadata": {
    "collapsed": false
   }
  }
 ],
 "metadata": {
  "kernelspec": {
   "display_name": "Python 3",
   "language": "python",
   "name": "python3"
  },
  "language_info": {
   "codemirror_mode": {
    "name": "ipython",
    "version": 2
   },
   "file_extension": ".py",
   "mimetype": "text/x-python",
   "name": "python",
   "nbconvert_exporter": "python",
   "pygments_lexer": "ipython2",
   "version": "2.7.6"
  }
 },
 "nbformat": 4,
 "nbformat_minor": 0
}
