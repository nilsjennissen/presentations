{
 "cells": [
  {
   "cell_type": "markdown",
   "source": [
    "# Reading raw Notebooks"
   ],
   "metadata": {
    "collapsed": false
   }
  },
  {
   "cell_type": "code",
   "execution_count": 2,
   "outputs": [],
   "source": [
    "import nbformat\n",
    "import pandas as pd"
   ],
   "metadata": {
    "collapsed": false,
    "ExecuteTime": {
     "end_time": "2023-06-04T21:18:45.803537Z",
     "start_time": "2023-06-04T21:18:45.330447Z"
    }
   }
  },
  {
   "cell_type": "markdown",
   "source": [
    "## Read the Notebook"
   ],
   "metadata": {
    "collapsed": false
   }
  },
  {
   "cell_type": "code",
   "execution_count": 3,
   "metadata": {
    "collapsed": true,
    "ExecuteTime": {
     "end_time": "2023-06-04T21:18:50.323195Z",
     "start_time": "2023-06-04T21:18:50.281010Z"
    }
   },
   "outputs": [],
   "source": [
    "# Read the Notebook\n",
    "def read_ipynb_file(file_path):\n",
    "    with open(file_path, 'r', encoding='utf-8') as file:\n",
    "        notebook = nbformat.read(file, as_version=4)\n",
    "    return notebook\n",
    "\n",
    "notebook_path = \"/Users/nilsjennissen/PycharmProjects/presentations/notebooks/template.ipynb\"\n",
    "notebook = read_ipynb_file(notebook_path)"
   ]
  },
  {
   "cell_type": "code",
   "execution_count": 4,
   "outputs": [
    {
     "data": {
      "text/plain": "{'cells': [{'cell_type': 'markdown',\n   'source': '# Document Name',\n   'metadata': {'collapsed': False}},\n  {'cell_type': 'markdown',\n   'source': '## Section 1\\nFirst header text',\n   'metadata': {'collapsed': False}},\n  {'cell_type': 'code',\n   'execution_count': None,\n   'metadata': {'collapsed': True},\n   'outputs': [],\n   'source': '# First Code Comment\\ndef func():\\n    \\'\\'\\'Function description\\'\\'\\'\\n    print(\"Hello World\")'},\n  {'cell_type': 'markdown',\n   'source': '## Section 2',\n   'metadata': {'collapsed': False}},\n  {'cell_type': 'code',\n   'execution_count': None,\n   'outputs': [],\n   'source': 'def func2():\\n    \\'\\'\\'Function description\\'\\'\\'\\n    print(\"Hello World\")',\n   'metadata': {'collapsed': False}},\n  {'cell_type': 'markdown',\n   'source': '### Subsection 2.1',\n   'metadata': {'collapsed': False}},\n  {'cell_type': 'code',\n   'execution_count': None,\n   'outputs': [],\n   'source': 'def func3():\\n    \\'\\'\\'Function description\\'\\'\\'\\n    print(\"Hello World\")',\n   'metadata': {'collapsed': False}},\n  {'cell_type': 'markdown',\n   'source': '### Subsection 2.2',\n   'metadata': {'collapsed': False}},\n  {'cell_type': 'code',\n   'execution_count': None,\n   'outputs': [],\n   'source': 'def func4():\\n    \\'\\'\\'Function description\\'\\'\\'\\n    print(\"Hello World\")',\n   'metadata': {'collapsed': False}},\n  {'cell_type': 'markdown',\n   'source': '## Section 3',\n   'metadata': {'collapsed': False}},\n  {'cell_type': 'code',\n   'execution_count': None,\n   'outputs': [],\n   'source': 'def func5():\\n    \\'\\'\\'Function description\\'\\'\\'\\n    print(\"Hello World\")',\n   'metadata': {'collapsed': False}}],\n 'metadata': {'kernelspec': {'display_name': 'Python 3',\n   'language': 'python',\n   'name': 'python3'},\n  'language_info': {'codemirror_mode': {'name': 'ipython', 'version': 2},\n   'file_extension': '.py',\n   'mimetype': 'text/x-python',\n   'name': 'python',\n   'nbconvert_exporter': 'python',\n   'pygments_lexer': 'ipython2',\n   'version': '2.7.6'}},\n 'nbformat': 4,\n 'nbformat_minor': 0}"
     },
     "execution_count": 4,
     "metadata": {},
     "output_type": "execute_result"
    }
   ],
   "source": [
    "notebook"
   ],
   "metadata": {
    "collapsed": false,
    "ExecuteTime": {
     "end_time": "2023-06-04T21:18:51.184116Z",
     "start_time": "2023-06-04T21:18:51.179437Z"
    }
   }
  },
  {
   "cell_type": "markdown",
   "source": [
    "## Extracting header and text fields"
   ],
   "metadata": {
    "collapsed": false
   }
  },
  {
   "cell_type": "code",
   "execution_count": 9,
   "outputs": [],
   "source": [
    "def extract_text_fields(notebook):\n",
    "    doc_name = []\n",
    "    headers = []\n",
    "    subheaders = []\n",
    "    texts = []\n",
    "\n",
    "    for cell in notebook.cells:\n",
    "        if cell.cell_type == 'markdown':\n",
    "            lines = cell.source.split('\\n')\n",
    "            for line in lines:\n",
    "                if line.startswith('# '):\n",
    "                    doc_name.append(line)\n",
    "                elif line.startswith('## '):\n",
    "                    headers.append(line)\n",
    "                elif line.startswith('### '):\n",
    "                    subheaders.append(line)\n",
    "                else:\n",
    "                    texts.append(line)\n",
    "\n",
    "    return doc_name, headers, subheaders, texts\n",
    "\n",
    "doc_name, headers, subheaders, texts = extract_text_fields(notebook)"
   ],
   "metadata": {
    "collapsed": false,
    "ExecuteTime": {
     "end_time": "2023-06-04T21:21:31.828161Z",
     "start_time": "2023-06-04T21:21:31.824315Z"
    }
   }
  },
  {
   "cell_type": "code",
   "execution_count": 10,
   "outputs": [
    {
     "data": {
      "text/plain": "['# Document Name']"
     },
     "execution_count": 10,
     "metadata": {},
     "output_type": "execute_result"
    }
   ],
   "source": [
    "doc_name"
   ],
   "metadata": {
    "collapsed": false,
    "ExecuteTime": {
     "end_time": "2023-06-04T21:21:32.518211Z",
     "start_time": "2023-06-04T21:21:32.514995Z"
    }
   }
  },
  {
   "cell_type": "code",
   "execution_count": 11,
   "outputs": [
    {
     "data": {
      "text/plain": "['## Section 1', '## Section 2', '## Section 3']"
     },
     "execution_count": 11,
     "metadata": {},
     "output_type": "execute_result"
    }
   ],
   "source": [
    "headers"
   ],
   "metadata": {
    "collapsed": false,
    "ExecuteTime": {
     "end_time": "2023-06-04T21:21:33.992490Z",
     "start_time": "2023-06-04T21:21:33.986202Z"
    }
   }
  },
  {
   "cell_type": "code",
   "execution_count": 13,
   "outputs": [
    {
     "data": {
      "text/plain": "['### Subsection 2.1', '### Subsection 2.2']"
     },
     "execution_count": 13,
     "metadata": {},
     "output_type": "execute_result"
    }
   ],
   "source": [
    "subheaders"
   ],
   "metadata": {
    "collapsed": false,
    "ExecuteTime": {
     "end_time": "2023-06-04T21:21:41.315897Z",
     "start_time": "2023-06-04T21:21:41.309202Z"
    }
   }
  },
  {
   "cell_type": "code",
   "execution_count": 12,
   "outputs": [
    {
     "data": {
      "text/plain": "['First header text']"
     },
     "execution_count": 12,
     "metadata": {},
     "output_type": "execute_result"
    }
   ],
   "source": [
    "texts"
   ],
   "metadata": {
    "collapsed": false,
    "ExecuteTime": {
     "end_time": "2023-06-04T21:21:35.931200Z",
     "start_time": "2023-06-04T21:21:35.923507Z"
    }
   }
  },
  {
   "cell_type": "markdown",
   "source": [
    "## Extracting Sections"
   ],
   "metadata": {
    "collapsed": false
   }
  },
  {
   "cell_type": "code",
   "execution_count": 14,
   "outputs": [],
   "source": [
    "def extract_text_fields(notebook):\n",
    "    sections = []\n",
    "\n",
    "    for cell in notebook.cells:\n",
    "        if cell.cell_type == 'markdown':\n",
    "            lines = cell.source.split('\\n')\n",
    "            section = {'doc_name': '', 'header': '', 'subheader': '', 'text': ''}\n",
    "            for line in lines:\n",
    "                if line.startswith('# '):\n",
    "                    section['doc_name'] = line\n",
    "                elif line.startswith('## '):\n",
    "                    section['header'] = line\n",
    "                elif line.startswith('### '):\n",
    "                    section['subheader'] = line\n",
    "                else:\n",
    "                    section['text'] += line + '\\n'\n",
    "            sections.append(section)\n",
    "\n",
    "    return sections\n",
    "\n",
    "sections = extract_text_fields(notebook)"
   ],
   "metadata": {
    "collapsed": false,
    "ExecuteTime": {
     "end_time": "2023-06-04T21:25:35.194091Z",
     "start_time": "2023-06-04T21:25:35.190182Z"
    }
   }
  },
  {
   "cell_type": "code",
   "execution_count": 15,
   "outputs": [
    {
     "data": {
      "text/plain": "[{'doc_name': '# Document Name', 'header': '', 'subheader': '', 'text': ''},\n {'doc_name': '',\n  'header': '## Section 1',\n  'subheader': '',\n  'text': 'First header text\\n'},\n {'doc_name': '', 'header': '## Section 2', 'subheader': '', 'text': ''},\n {'doc_name': '', 'header': '', 'subheader': '### Subsection 2.1', 'text': ''},\n {'doc_name': '', 'header': '', 'subheader': '### Subsection 2.2', 'text': ''},\n {'doc_name': '', 'header': '## Section 3', 'subheader': '', 'text': ''}]"
     },
     "execution_count": 15,
     "metadata": {},
     "output_type": "execute_result"
    }
   ],
   "source": [
    "sections"
   ],
   "metadata": {
    "collapsed": false,
    "ExecuteTime": {
     "end_time": "2023-06-04T21:25:35.694194Z",
     "start_time": "2023-06-04T21:25:35.690059Z"
    }
   }
  },
  {
   "cell_type": "code",
   "execution_count": null,
   "outputs": [],
   "source": [],
   "metadata": {
    "collapsed": false
   }
  }
 ],
 "metadata": {
  "kernelspec": {
   "display_name": "Python 3",
   "language": "python",
   "name": "python3"
  },
  "language_info": {
   "codemirror_mode": {
    "name": "ipython",
    "version": 2
   },
   "file_extension": ".py",
   "mimetype": "text/x-python",
   "name": "python",
   "nbconvert_exporter": "python",
   "pygments_lexer": "ipython2",
   "version": "2.7.6"
  }
 },
 "nbformat": 4,
 "nbformat_minor": 0
}
