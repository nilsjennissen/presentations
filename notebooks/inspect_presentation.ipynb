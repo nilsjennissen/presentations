{
 "cells": [
  {
   "cell_type": "markdown",
   "source": [
    "# Creating Presentations from Notebooks and Python Scrips"
   ],
   "metadata": {
    "collapsed": false
   }
  },
  {
   "cell_type": "code",
   "execution_count": 4,
   "metadata": {
    "collapsed": true,
    "ExecuteTime": {
     "end_time": "2023-06-03T14:04:02.938365Z",
     "start_time": "2023-06-03T14:04:02.935542Z"
    }
   },
   "outputs": [],
   "source": [
    "# Import libraries\n",
    "import pandas as pd\n",
    "import pptx\n",
    "from pptx import Presentation\n",
    "from pptx.util import Inches, Pt\n",
    "from pptx.dml.color import RGBColor\n",
    "from pptx.enum.shapes import MSO_SHAPE\n",
    "from pptx.enum.shapes import MSO_SHAPE_TYPE\n",
    "from pptx.enum.shapes import MSO_CONNECTOR\n",
    "from pptx.enum.shapes import MSO_CONNECTOR_TYPE\n",
    "\n",
    "# import placeholders\n",
    "from pptx.enum.shapes import PP_PLACEHOLDER\n",
    "from pptx.enum.shapes import PP_PLACEHOLDER_TYPE"
   ]
  },
  {
   "cell_type": "code",
   "execution_count": 9,
   "outputs": [
    {
     "name": "stdout",
     "output_type": "stream",
     "text": [
      "<class 'pptx.slide.Slide'>  slide_index [ 0 ]\n",
      "index [ 0 ] TITLE (1) Titel 13\n",
      "index [ 1 ] SUBTITLE (4) Textplatzhalter 12\n",
      "index [ 10 ] PICTURE (18) Bildplatzhalter 34\n",
      "<class 'pptx.slide.Slide'>  slide_index [ 1 ]\n",
      "index [ 0 ] TITLE (1) Title 4\n",
      "index [ 13 ] BODY (2) Text Placeholder 5\n",
      "index [ 17 ] BODY (2) Text Placeholder 6\n",
      "index [ 21 ] BODY (2) Text Placeholder 7\n",
      "<class 'pptx.slide.Slide'>  slide_index [ 2 ]\n",
      "index [ 0 ] TITLE (1) Title 4\n",
      "index [ 13 ] BODY (2) Text Placeholder 1\n",
      "index [ 17 ] BODY (2) Text Placeholder 2\n",
      "index [ 21 ] BODY (2) Text Placeholder 3\n",
      "<class 'pptx.slide.Slide'>  slide_index [ 3 ]\n",
      "index [ 0 ] TITLE (1) Title 4\n",
      "index [ 13 ] BODY (2) Text Placeholder 1\n",
      "index [ 17 ] BODY (2) Text Placeholder 2\n",
      "index [ 21 ] BODY (2) Text Placeholder 3\n",
      "<class 'pptx.slide.Slide'>  slide_index [ 4 ]\n",
      "index [ 0 ] TITLE (1) Title 4\n",
      "index [ 13 ] BODY (2) Text Placeholder 1\n",
      "index [ 17 ] BODY (2) Text Placeholder 2\n",
      "index [ 21 ] BODY (2) Text Placeholder 3\n",
      "<class 'pptx.slide.Slide'>  slide_index [ 5 ]\n",
      "index [ 0 ] TITLE (1) Title 4\n",
      "index [ 13 ] BODY (2) Text Placeholder 1\n",
      "index [ 17 ] BODY (2) Text Placeholder 2\n",
      "index [ 21 ] BODY (2) Text Placeholder 3\n",
      "<class 'pptx.slide.Slide'>  slide_index [ 6 ]\n",
      "index [ 0 ] TITLE (1) Title 4\n",
      "index [ 13 ] BODY (2) Text Placeholder 1\n",
      "index [ 17 ] BODY (2) Text Placeholder 2\n",
      "index [ 21 ] BODY (2) Text Placeholder 3\n",
      "<class 'pptx.slide.Slide'>  slide_index [ 7 ]\n",
      "index [ 0 ] TITLE (1) Title 4\n",
      "index [ 13 ] BODY (2) Text Placeholder 1\n",
      "index [ 17 ] BODY (2) Text Placeholder 2\n",
      "index [ 21 ] BODY (2) Text Placeholder 3\n",
      "<class 'pptx.slide.Slide'>  slide_index [ 8 ]\n",
      "index [ 0 ] TITLE (1) Title 4\n",
      "index [ 13 ] BODY (2) Text Placeholder 1\n",
      "index [ 17 ] BODY (2) Text Placeholder 2\n",
      "index [ 21 ] BODY (2) Text Placeholder 3\n",
      "<class 'pptx.slide.Slide'>  slide_index [ 9 ]\n",
      "index [ 0 ] TITLE (1) Title 4\n",
      "index [ 13 ] BODY (2) Text Placeholder 1\n",
      "index [ 17 ] BODY (2) Text Placeholder 2\n",
      "index [ 21 ] BODY (2) Text Placeholder 3\n",
      "<class 'pptx.slide.Slide'>  slide_index [ 10 ]\n",
      "index [ 0 ] TITLE (1) Title 4\n",
      "index [ 13 ] BODY (2) Text Placeholder 1\n",
      "index [ 17 ] BODY (2) Text Placeholder 2\n",
      "index [ 21 ] BODY (2) Text Placeholder 3\n",
      "<class 'pptx.slide.Slide'>  slide_index [ 11 ]\n",
      "index [ 0 ] TITLE (1) Title 4\n",
      "index [ 13 ] BODY (2) Text Placeholder 1\n",
      "index [ 17 ] BODY (2) Text Placeholder 2\n",
      "index [ 21 ] BODY (2) Text Placeholder 3\n",
      "Number of slides:  12\n"
     ]
    }
   ],
   "source": [
    "path = 'pres/Classification_Challenge.pptx'\n",
    "prs = Presentation(path)\n",
    "\n",
    "for slide in prs.slides:\n",
    "    print(type(slide), slide.name, 'slide_index [',prs.slides.index(slide), ']' )\n",
    "    for p in slide.placeholders:\n",
    "        print('index [', p.placeholder_format.idx, ']', p.placeholder_format.type, p.name)\n",
    "\n",
    "\n",
    "# Get summary details of the presentation\n",
    "number_of_slides = len(prs.slides)\n",
    "print('Number of slides: ', number_of_slides)"
   ],
   "metadata": {
    "collapsed": false,
    "ExecuteTime": {
     "end_time": "2023-06-03T15:06:48.813267Z",
     "start_time": "2023-06-03T15:06:48.776737Z"
    }
   }
  },
  {
   "cell_type": "code",
   "execution_count": 7,
   "outputs": [
    {
     "ename": "AttributeError",
     "evalue": "'SlideShapes' object has no attribute 'has_text_frame'",
     "output_type": "error",
     "traceback": [
      "\u001B[0;31m---------------------------------------------------------------------------\u001B[0m",
      "\u001B[0;31mAttributeError\u001B[0m                            Traceback (most recent call last)",
      "Cell \u001B[0;32mIn[7], line 17\u001B[0m\n\u001B[1;32m     15\u001B[0m slide_paragraphs \u001B[38;5;241m=\u001B[39m []\n\u001B[1;32m     16\u001B[0m \u001B[38;5;28;01mfor\u001B[39;00m slide \u001B[38;5;129;01min\u001B[39;00m prs\u001B[38;5;241m.\u001B[39mslides:\n\u001B[0;32m---> 17\u001B[0m     \u001B[38;5;28;01mif\u001B[39;00m \u001B[43mslide\u001B[49m\u001B[38;5;241;43m.\u001B[39;49m\u001B[43mshapes\u001B[49m\u001B[38;5;241;43m.\u001B[39;49m\u001B[43mhas_text_frame\u001B[49m:\n\u001B[1;32m     18\u001B[0m         slide_paragraphs\u001B[38;5;241m.\u001B[39mappend(slide\u001B[38;5;241m.\u001B[39mshapes[\u001B[38;5;241m3\u001B[39m]\u001B[38;5;241m.\u001B[39mtext)\n\u001B[1;32m     19\u001B[0m     \u001B[38;5;28;01melse\u001B[39;00m:\n",
      "\u001B[0;31mAttributeError\u001B[0m: 'SlideShapes' object has no attribute 'has_text_frame'"
     ]
    }
   ],
   "source": [
    "# Create lists for slide headers\n",
    "slide_titles = []\n",
    "slide_body = []\n",
    "\n",
    "# Extract slide text\n",
    "slide_text = []\n",
    "for slide in prs.slides:\n",
    "    for shape in slide.shapes:\n",
    "        if not shape.has_text_frame:\n",
    "            continue\n",
    "        for paragraph in shape.text_frame.paragraphs:\n",
    "            for run in paragraph.runs:\n",
    "                slide_text.append(run.text)\n",
    "\n",
    "slide_paragraphs = []\n",
    "for slide in prs.slides:\n",
    "    if slide.shapes.has_text_frame:\n",
    "        slide_paragraphs.append(slide.shapes[3].text)\n",
    "    else:\n",
    "        slide_paragraphs.append('')"
   ],
   "metadata": {
    "collapsed": false,
    "ExecuteTime": {
     "end_time": "2023-06-03T14:04:44.246145Z",
     "start_time": "2023-06-03T14:04:44.229132Z"
    }
   }
  },
  {
   "cell_type": "markdown",
   "source": [
    "### Inspect first slide"
   ],
   "metadata": {
    "collapsed": false
   }
  },
  {
   "cell_type": "code",
   "execution_count": null,
   "outputs": [],
   "source": [
    "# First slide header\n",
    "print(prs.slides[0].shapes[0].name)\n",
    "print(prs.slides[0].shapes[1].name)\n",
    "print(prs.slides[0].shapes[2].name)\n",
    "print(prs.slides[0].shapes[3].name)\n",
    "print(prs.slides[0].shapes.title.text)\n",
    "print(prs.slides[0].placeholders[1])"
   ],
   "metadata": {
    "collapsed": false
   }
  },
  {
   "cell_type": "code",
   "execution_count": null,
   "outputs": [],
   "source": [
    "# First shape\n",
    "print(prs.slides[0].shapes.title.text)\n",
    "print(prs.slides[1].shapes[0].name)\n",
    "\n",
    "for shape in slide.shapes:\n",
    "    if not shape.has_text_frame:\n",
    "        continue\n",
    "    text_frame = shape.text_frame"
   ],
   "metadata": {
    "collapsed": false
   }
  },
  {
   "cell_type": "code",
   "execution_count": null,
   "outputs": [],
   "source": [
    "# Create a dataframe with the shape information of each slide in a column\n",
    "prs = Presentation()\n",
    "for slide in prs.slides:\n",
    "    print(slide.title)\n",
    "    for shape in slide.placeholders:\n",
    "        print('%d %s' % (shape.placeholder_format.idx, shape.name))"
   ],
   "metadata": {
    "collapsed": false
   }
  },
  {
   "cell_type": "code",
   "execution_count": null,
   "outputs": [],
   "source": [
    "prs = Presentation()\n",
    "slide = prs.slides.add_slide(prs.slide_layouts[3])\n",
    "for shape in slide.shapes:\n",
    "    print('%s' % shape.shape_type)"
   ],
   "metadata": {
    "collapsed": false
   }
  },
  {
   "cell_type": "code",
   "execution_count": null,
   "outputs": [],
   "source": [
    "slide = prs.slides.add_slide(prs.slides[3].shapes)\n",
    "for shape in slide.shapes:\n",
    "    print(shape.name, shape.shape_type, shape.has_text_frame, shape.is_placeholder)"
   ],
   "metadata": {
    "collapsed": false
   }
  }
 ],
 "metadata": {
  "kernelspec": {
   "display_name": "Python 3",
   "language": "python",
   "name": "python3"
  },
  "language_info": {
   "codemirror_mode": {
    "name": "ipython",
    "version": 2
   },
   "file_extension": ".py",
   "mimetype": "text/x-python",
   "name": "python",
   "nbconvert_exporter": "python",
   "pygments_lexer": "ipython2",
   "version": "2.7.6"
  }
 },
 "nbformat": 4,
 "nbformat_minor": 0
}
