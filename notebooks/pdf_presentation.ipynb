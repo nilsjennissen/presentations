{
 "cells": [
  {
   "cell_type": "code",
   "execution_count": 7,
   "outputs": [],
   "source": [
    "from PyPDF2 import PdfReader\n",
    "import os\n",
    "import credentials\n",
    "import openai\n"
   ],
   "metadata": {
    "collapsed": false,
    "ExecuteTime": {
     "end_time": "2023-06-11T17:17:32.296978Z",
     "start_time": "2023-06-11T17:17:31.899027Z"
    }
   }
  },
  {
   "cell_type": "code",
   "execution_count": 8,
   "outputs": [],
   "source": [
    "\n",
    "template_path = \"../templates/template.pptx\"\n",
    "output_path = \"../pres/output.pptx\""
   ],
   "metadata": {
    "collapsed": false,
    "ExecuteTime": {
     "end_time": "2023-06-11T17:17:33.205515Z",
     "start_time": "2023-06-11T17:17:33.199634Z"
    }
   }
  },
  {
   "cell_type": "code",
   "execution_count": 9,
   "outputs": [],
   "source": [
    "f = \"/Users/nilsjennissen/Documents/Message_App_Essay.pdf\""
   ],
   "metadata": {
    "collapsed": false,
    "ExecuteTime": {
     "end_time": "2023-06-11T17:17:33.682062Z",
     "start_time": "2023-06-11T17:17:33.679362Z"
    }
   }
  },
  {
   "cell_type": "code",
   "execution_count": 10,
   "metadata": {
    "collapsed": true,
    "ExecuteTime": {
     "end_time": "2023-06-11T17:17:34.216642Z",
     "start_time": "2023-06-11T17:17:34.186718Z"
    }
   },
   "outputs": [
    {
     "name": "stdout",
     "output_type": "stream",
     "text": [
      "Data Science Foundations: Assignment Message App Nils Jennissen   Summary: Target of the project was a review database for our client Super Sandwiches. The database should be accessible to inform about unprocessed reviews and a function should return all reviews after a specified date. The reviews need to be labelled with the categories ‘Food’, ‘Service’ and ‘General’ to inform about the review category. The designed program runs with three python files ‘ingestion.py’, ‘process.py’, and ‘read.py’:  ingestion.py is a Python script that reads a CSV file, creates a SQLite database, and inserts the CSV data into a table in the database. The script receives the CSV file name as a command-line argument and converts all columns to string. It then defines a function that takes the pandas DataFrame as input and inserts the data into the raw_messages table. The function is executed and a message is printed if the data is inserted successfully.  process.py is a Python script that connects to the same SQLite database as ingestion.py and reads the data from the raw_messages table. The script then preprocesses the data by tokenizing the message, counting the number of lemmas, identifying the category of the message based on the count of food-related and service-related lemmas, and counting the number of characters in the message. The preprocessed data is then inserted into the proc_messages table, and the raw_messages table is deleted. The script receives a date as a command-line argument and retrieves data from proc_messages table after the specified date.  read.py is a Python script that connects to the same SQLite database as process.py and retrieves data from the proc_messages table that has a timestamp greater than or equal to the specified date. The script receives a date as a command-line argument and reads the data from the proc_messages table that has a timestamp greater than or equal to the specified date. It then prints the number of messages and arranges the data in a dictionary before printing the JSON-formatted output.  The project team worked mostly remote and was able to do quick advances with the initial two meetings. All documents were shared and saved on GitHub which propelled collaboration and taught the project team the use of the version control system. Within the project, the biggest drawbacks have been dependency errors for the spacy ‘en_core_web_sm’ object. The project was successfully finished, and the python files are up and running.  The project is available under:  https://github.com/nilsjenn/assignment-message-app  \n"
     ]
    }
   ],
   "source": [
    "# Read pdf\n",
    "pdf = PdfReader(f)\n",
    "for page in pdf.pages:\n",
    "    text = page.extract_text()\n",
    "    print(text)"
   ]
  },
  {
   "cell_type": "code",
   "execution_count": null,
   "outputs": [],
   "source": [
    "systemprompt = \"\"\"You are a master at creating short paragraphs for presentations and you either summarize larger\n",
    "                content that you get, or elaborate on a short topic that is given in a keyword.\"\"\"\n",
    "\n",
    "OPENAI_API_KEY = credentials.OPENAI_API_KEY\n",
    "\n",
    "def run_GPT4(systemprompt, prompt):\n",
    "    \"\"\"Run GPT4 with the prompt and return the response\"\"\"\n",
    "    openai.api_key = OPENAI_API_KEY\n",
    "    completion = openai.ChatCompletion.create(\n",
    "        model=\"gpt-4\",\n",
    "        temperature=0.2,\n",
    "        messages=[\n",
    "            {\"role\": \"system\", \"content\": systemprompt},\n",
    "            {\"role\": \"user\", \"content\": prompt},\n",
    "        ]\n",
    "    )\n",
    "    answer = completion.choices[0].message.content\n",
    "\n",
    "    return answer"
   ],
   "metadata": {
    "collapsed": false
   }
  }
 ],
 "metadata": {
  "kernelspec": {
   "display_name": "Python 3",
   "language": "python",
   "name": "python3"
  },
  "language_info": {
   "codemirror_mode": {
    "name": "ipython",
    "version": 2
   },
   "file_extension": ".py",
   "mimetype": "text/x-python",
   "name": "python",
   "nbconvert_exporter": "python",
   "pygments_lexer": "ipython2",
   "version": "2.7.6"
  }
 },
 "nbformat": 4,
 "nbformat_minor": 0
}
